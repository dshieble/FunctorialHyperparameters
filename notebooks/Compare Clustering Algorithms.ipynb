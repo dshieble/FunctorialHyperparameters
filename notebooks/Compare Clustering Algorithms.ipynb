{
 "cells": [
  {
   "cell_type": "code",
   "execution_count": null,
   "metadata": {
    "scrolled": true
   },
   "outputs": [],
   "source": [
    "%matplotlib inline\n",
    "%load_ext autoreload\n",
    "\n",
    "%autoreload 2\n",
    "\n",
    "from gensim.models.word2vec import Word2Vec\n",
    "import gensim.downloader as api\n",
    "from tqdm import tqdm\n",
    "import random\n",
    "import numpy as np\n",
    "import pandas as pd\n",
    "import seaborn as sns\n",
    "import time\n",
    "from sklearn.cluster import KMeans\n",
    "from collections import defaultdict\n",
    "from collections import Counter\n",
    "import cvxpy\n",
    "import numpy as np\n",
    "from sklearn.metrics import adjusted_rand_score\n",
    "from sklearn.linear_model import LogisticRegression\n",
    "from scipy.optimize import linprog\n",
    "from copy import deepcopy\n",
    "\n",
    "\n",
    "sns.reset_defaults()\n",
    "sns.set_context(context='talk',font_scale=0.7)\n",
    "\n",
    "\n",
    "from hdbscan._hdbscan_tree import (condense_tree,\n",
    "                            compute_stability,\n",
    "                            get_clusters,\n",
    "                            outlier_scores,\n",
    "                                   do_labelling,\n",
    "                                   get_probabilities,\n",
    "                                   get_stability_scores)\n",
    "from hdbscan.hdbscan_ import _hdbscan_boruvka_kdtree, _hdbscan_prims_kdtree, _hdbscan_generic\n",
    "from hdbscan import HDBSCAN\n",
    "from cluster_combinations import MultiscaleHDBSCAN\n",
    "from sklearn.metrics import (\n",
    "    completeness_score, adjusted_rand_score, adjusted_mutual_info_score, fowlkes_mallows_score, homogeneity_score)\n",
    "\n",
    "def compare_clusterings(ground_truth, c):\n",
    "    # Note that we use homoeneity because we have access to the ground truth \n",
    "    return (\n",
    "        adjusted_rand_score(ground_truth, c),\n",
    "        completeness_score(ground_truth, c),\n",
    "        fowlkes_mallows_score(ground_truth, c),\n",
    "        homogeneity_score(ground_truth,c))\n"
   ]
  },
  {
   "cell_type": "code",
   "execution_count": null,
   "metadata": {
    "scrolled": true
   },
   "outputs": [],
   "source": [
    "from data_helper import load_umap_mnist, load_umap_newsgroups\n",
    "X_mnist, y_mnist = load_umap_mnist(sampling=20, n_components=10)\n",
    "X_news, y_news = load_umap_newsgroups(sampling=1, n_components=10)\n"
   ]
  },
  {
   "cell_type": "code",
   "execution_count": null,
   "metadata": {},
   "outputs": [],
   "source": [
    "alpha_list = [1.0, 2.0, 3.0, 4.0, 5.0]\n",
    "for alpha in alpha_list:\n",
    "    hdbscan_labels = HDBSCAN(\n",
    "        alpha=alpha,\n",
    "        min_samples=5,\n",
    "        min_cluster_size=100,\n",
    "        algorithm=\"prims_kdtree\",\n",
    "        metric='euclidean',\n",
    "        p=None,\n",
    "        gen_min_span_tree=False,\n",
    "        cluster_selection_method=\"eom\",\n",
    "        allow_single_cluster=False,\n",
    "        match_reference_implementation=False,\n",
    "        cluster_selection_epsilon=0.0,\n",
    "        leaf_size=3).fit_predict(X_mnist)\n",
    "    print(\"hdbscan {}\".format(alpha), compare_clusterings(y_mnist, hdbscan_labels))\n",
    "\n",
    "    \n",
    "mhdbscan_labels = MultiscaleHDBSCAN(\n",
    "    alpha_list=alpha_list,\n",
    "    min_samples=5,\n",
    "    m=2,\n",
    "    min_cluster_size=100,\n",
    "    normalize_stabilities=False,\n",
    "    solver=\"mip\").fit_predict(X_mnist)\n",
    "\n",
    "print(\"mhdbscan: \", compare_clusterings(y_mnist, mhdbscan_labels))\n",
    "print(Counter(mhdbscan_labels))"
   ]
  }
 ],
 "metadata": {
  "kernelspec": {
   "display_name": "Python 3",
   "language": "python",
   "name": "python3"
  },
  "language_info": {
   "codemirror_mode": {
    "name": "ipython",
    "version": 3
   },
   "file_extension": ".py",
   "mimetype": "text/x-python",
   "name": "python",
   "nbconvert_exporter": "python",
   "pygments_lexer": "ipython3",
   "version": "3.6.6"
  },
  "toc": {
   "base_numbering": 1,
   "nav_menu": {},
   "number_sections": false,
   "sideBar": false,
   "skip_h1_title": false,
   "title_cell": "Table of Contents",
   "title_sidebar": "Contents",
   "toc_cell": false,
   "toc_position": {},
   "toc_section_display": false,
   "toc_window_display": false
  }
 },
 "nbformat": 4,
 "nbformat_minor": 4
}
