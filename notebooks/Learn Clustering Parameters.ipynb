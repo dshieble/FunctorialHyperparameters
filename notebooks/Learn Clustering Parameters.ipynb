{
 "cells": [
  {
   "cell_type": "code",
   "execution_count": null,
   "id": "contained-binding",
   "metadata": {
    "scrolled": true
   },
   "outputs": [],
   "source": [
    "# show plots inline in the notebook\n",
    "%matplotlib inline\n",
    "\n",
    "import numpy as np\n",
    "import matplotlib.pyplot as plt\n",
    "from IPython.display import display, Math\n",
    "import zeus\n",
    "import seaborn as sns\n",
    "from sklearn.metrics import adjusted_rand_score\n",
    "import numpy as np\n",
    "import zeus\n",
    "from sklearn.cluster import AgglomerativeClustering\n",
    "from data_helper import load_umap_newsgroups\n",
    "from tqdm import tqdm\n",
    "plt.style.use(\"seaborn-darkgrid\")\n",
    "\n",
    "def sigmoid(x):\n",
    "    return 1 / (1 + np.exp(-x))\n",
    "\n",
    "X_news, y_news = load_umap_newsgroups(sampling=10, n_components=10)\n"
   ]
  },
  {
   "cell_type": "code",
   "execution_count": null,
   "id": "empty-fashion",
   "metadata": {},
   "outputs": [],
   "source": [
    "# Rand Scores and Distance Thresholds\n",
    "def get_rand_score(distance_threshold, X, y, eps=1e-3):\n",
    "    predicted = AgglomerativeClustering(distance_threshold=distance_threshold, n_clusters=None).fit_predict(X)\n",
    "    return eps + adjusted_rand_score(predicted, y)\n",
    "\n",
    "\n",
    "distance_thresholds = np.arange(0,50, 0.2)\n",
    "scores = [get_rand_score(distance_threshold, X_news, y_news) for distance_threshold in distance_thresholds]\n"
   ]
  },
  {
   "cell_type": "code",
   "execution_count": null,
   "id": "enabling-usage",
   "metadata": {
    "scrolled": true
   },
   "outputs": [],
   "source": [
    "# Run MCMC to sample from distribution over learned distance thresholds\n",
    "\n",
    "def get_distance_threshold(param):\n",
    "    return np.exp(-param)\n",
    "\n",
    "def logprior(param):\n",
    "    return 0\n",
    "\n",
    "def loglikelihood(param, X, y):\n",
    "    return get_rand_score(get_distance_threshold(param), X, y)\n",
    "\n",
    "def logposterior(param, X, y):\n",
    "    return logprior(param) + loglikelihood(param, X, y)\n",
    "\n",
    "\n",
    "ndim = 1\n",
    "nwalkers = 4\n",
    "nsteps = 100\n",
    "start = np.random.rand(nwalkers, ndim)\n",
    "\n",
    "sampler = zeus.EnsembleSampler(nwalkers, ndim, logposterior, args=[X_news, y_news], verbose=False)\n",
    "sampler.run_mcmc(start, nsteps)\n",
    "chain = sampler.get_chain(flat=True, discard=nsteps//2)\n"
   ]
  },
  {
   "cell_type": "code",
   "execution_count": null,
   "id": "labeled-anniversary",
   "metadata": {},
   "outputs": [],
   "source": [
    "%matplotlib inline\n",
    "\n",
    "\n",
    "plt.figure(figsize=(25,10))\n",
    "\n",
    "plt.subplot(1,2,1)\n",
    "plt.hist([get_distance_threshold(c) for c in chain], density=True)\n",
    "plt.title(\"Samples from {}_n Fit Over 20 Newsgroups Dataset\".format(chr(956)), fontsize=20)\n",
    "plt.xlabel(\"Distance Threshold Used By Single Linkage\", fontsize=20)\n",
    "plt.ylabel(\"Normalized Proportion of Samples From {}_n\".format(chr(956)), fontsize=20)\n",
    "\n",
    "plt.subplot(1,2,2)\n",
    "plt.plot(distance_thresholds, scores)\n",
    "plt.title(\"Distance Threshold and Adjusted Rand Score Over 20 Newsgroups Dataset\", fontsize=20)\n",
    "plt.xlabel(\"Distance Threshold Used By Single Linkage\", fontsize=20)\n",
    "plt.ylabel(\"Adjusted Rand Score Over 20 Newsgroups Dataset\", fontsize=20)"
   ]
  },
  {
   "cell_type": "code",
   "execution_count": null,
   "id": "dressed-boulder",
   "metadata": {},
   "outputs": [],
   "source": []
  }
 ],
 "metadata": {
  "kernelspec": {
   "display_name": "base",
   "language": "python",
   "name": "base"
  },
  "language_info": {
   "codemirror_mode": {
    "name": "ipython",
    "version": 3
   },
   "file_extension": ".py",
   "mimetype": "text/x-python",
   "name": "python",
   "nbconvert_exporter": "python",
   "pygments_lexer": "ipython3",
   "version": "3.6.12"
  }
 },
 "nbformat": 4,
 "nbformat_minor": 5
}
