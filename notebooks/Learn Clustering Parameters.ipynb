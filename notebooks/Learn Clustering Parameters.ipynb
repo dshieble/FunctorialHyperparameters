{
 "cells": [
  {
   "cell_type": "code",
   "execution_count": null,
   "id": "contained-binding",
   "metadata": {
    "scrolled": true
   },
   "outputs": [],
   "source": [
    "%matplotlib inline\n",
    "\n",
    "import numpy as np\n",
    "import matplotlib.pyplot as plt\n",
    "from IPython.display import display, Math\n",
    "import seaborn as sns\n",
    "from sklearn.metrics import adjusted_rand_score\n",
    "import numpy as np\n",
    "from sklearn.cluster import AgglomerativeClustering\n",
    "from tqdm import tqdm\n",
    "from memoization import cached\n",
    "from sklearn.datasets import fetch_20newsgroups\n",
    "from sklearn.feature_extraction.text import CountVectorizer, TfidfTransformer\n",
    "from sklearn.pipeline import Pipeline\n",
    "from sklearn.decomposition import TruncatedSVD\n",
    "\n",
    "plt.style.use(\"seaborn-darkgrid\")\n",
    "\n",
    "train_bunch = fetch_20newsgroups(subset=\"train\")\n",
    "steps = [\n",
    "    ('vect', CountVectorizer()),\n",
    "    ('tfidf', TfidfTransformer()),\n",
    "    ('svd', TruncatedSVD(n_components=10, random_state=0))\n",
    "]\n",
    "X_news = Pipeline(steps).fit_transform(train_bunch['data'])[::5]\n",
    "y_news = train_bunch['target'][::5]"
   ]
  },
  {
   "cell_type": "code",
   "execution_count": null,
   "id": "seven-active",
   "metadata": {},
   "outputs": [],
   "source": [
    "@cached\n",
    "def get_rand_score(distance_threshold, X, y, eps=1e-3):\n",
    "    predicted = AgglomerativeClustering(\n",
    "        distance_threshold=distance_threshold, n_clusters=None, linkage='single').fit_predict(X)\n",
    "    return eps + adjusted_rand_score(predicted, y)\n",
    "\n",
    "\n",
    "left = 0\n",
    "right = 2\n",
    "distance_thresholds = np.arange(left,right, 0.05)\n",
    "scores = [get_rand_score(distance_threshold, X_news, y_news) for distance_threshold in distance_thresholds]"
   ]
  },
  {
   "cell_type": "code",
   "execution_count": null,
   "id": "geographic-knowing",
   "metadata": {},
   "outputs": [],
   "source": [
    "def mcmc(steps, left, right):\n",
    "    states = []\n",
    "    current = np.random.uniform(left, right)\n",
    "    for i in tqdm(range(steps)):\n",
    "        states.append(current)\n",
    "        movement = np.random.uniform(left, right)\n",
    "\n",
    "        curr_prob = get_rand_score(distance_threshold=current, X=X_news, y=y_news)\n",
    "        move_prob = get_rand_score(distance_threshold=movement, X=X_news, y=y_news)\n",
    "\n",
    "        # Flip a coin to determine whether or not to move\n",
    "        if np.random.uniform(0, 1) < min(move_prob / curr_prob, 1):\n",
    "            current = movement\n",
    "    return states[burn_in:]\n",
    "\n",
    "steps = 1000\n",
    "burn_in = int(steps * 0.2)\n",
    "raw_samples = mcmc(steps, left=left, right=right)\n",
    "samples = raw_samples[burn_in:]"
   ]
  },
  {
   "cell_type": "code",
   "execution_count": null,
   "id": "labeled-anniversary",
   "metadata": {},
   "outputs": [],
   "source": [
    "%matplotlib inline\n",
    "\n",
    "plt.figure(figsize=(25,10))\n",
    "\n",
    "plt.subplot(1,2,1)\n",
    "plt.hist(samples, density=True)\n",
    "plt.title(\"Samples from {} Fit Over 20 Newsgroups Dataset\".format(chr(956)), fontsize=20)\n",
    "plt.xlabel(\"Distance Threshold Used By Single Linkage\", fontsize=20)\n",
    "plt.ylabel(\"Normalized Proportion of Samples From {}\".format(chr(956)), fontsize=20)\n",
    "\n",
    "plt.subplot(1,2,2)\n",
    "plt.plot(distance_thresholds, scores)\n",
    "plt.title(\"Distance Threshold and Adjusted Rand Score Over 20 Newsgroups Dataset\", fontsize=20)\n",
    "plt.xlabel(\"Distance Threshold Used By Single Linkage\", fontsize=20)\n",
    "plt.ylabel(\"Adjusted Rand Score Over 20 Newsgroups Dataset\", fontsize=20)"
   ]
  },
  {
   "cell_type": "code",
   "execution_count": null,
   "id": "dressed-boulder",
   "metadata": {},
   "outputs": [],
   "source": []
  }
 ],
 "metadata": {
  "kernelspec": {
   "display_name": "Python 3",
   "language": "python",
   "name": "python3"
  },
  "language_info": {
   "codemirror_mode": {
    "name": "ipython",
    "version": 3
   },
   "file_extension": ".py",
   "mimetype": "text/x-python",
   "name": "python",
   "nbconvert_exporter": "python",
   "pygments_lexer": "ipython3",
   "version": "3.6.6"
  },
  "toc": {
   "base_numbering": 1,
   "nav_menu": {},
   "number_sections": false,
   "sideBar": false,
   "skip_h1_title": false,
   "title_cell": "Table of Contents",
   "title_sidebar": "Contents",
   "toc_cell": false,
   "toc_position": {},
   "toc_section_display": false,
   "toc_window_display": false
  }
 },
 "nbformat": 4,
 "nbformat_minor": 5
}
